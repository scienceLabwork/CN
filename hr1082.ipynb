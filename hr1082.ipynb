{
 "cells": [
  {
   "attachments": {},
   "cell_type": "markdown",
   "metadata": {},
   "source": [
    "###### 21BCM054 Rudra Shah\n",
    "### PRACTICAL 7\n",
    "##### **Q1** Implement Hamming code error correction technique. (EVEN PARITY)"
   ]
  },
  {
   "attachments": {},
   "cell_type": "markdown",
   "metadata": {},
   "source": [
    "# DATA FROM SENDER"
   ]
  },
  {
   "cell_type": "code",
   "execution_count": 12,
   "metadata": {},
   "outputs": [],
   "source": [
    "import math\n",
    "import pandas as pd"
   ]
  },
  {
   "cell_type": "code",
   "execution_count": 13,
   "metadata": {},
   "outputs": [
    {
     "name": "stdout",
     "output_type": "stream",
     "text": [
      "Original Data:  1111\n"
     ]
    }
   ],
   "source": [
    "data = \"1111\"\n",
    "print(\"Original Data: \",data)"
   ]
  },
  {
   "cell_type": "code",
   "execution_count": 14,
   "metadata": {},
   "outputs": [
    {
     "name": "stdout",
     "output_type": "stream",
     "text": [
      "Bits of Data:  4\n",
      "Bits of Data+Parity:  8\n"
     ]
    }
   ],
   "source": [
    "l = int(math.log2(len(data)))\n",
    "newlen = 2**(l+1)\n",
    "print(\"Bits of Data: \",2**l)\n",
    "print(\"Bits of Data+Parity: \",newlen)"
   ]
  },
  {
   "cell_type": "code",
   "execution_count": 15,
   "metadata": {},
   "outputs": [
    {
     "name": "stdout",
     "output_type": "stream",
     "text": [
      "Parity Bits: \n",
      "P1 -> [3, 5, 7] \n",
      "P2 -> [3, 6, 7] \n",
      "P4 -> [5, 6, 7]\n"
     ]
    }
   ],
   "source": [
    "n1 = 1\n",
    "p1 = [i for i in range(1,newlen,n1+1)]\n",
    "\n",
    "n2 = 2\n",
    "p2 = []\n",
    "c = 0\n",
    "j = 0\n",
    "for i in range(n2,newlen):\n",
    "    c+=1\n",
    "    p2.append(j+n2)\n",
    "    if(c==n2):\n",
    "        c = 0\n",
    "        j+=n2+1\n",
    "    else:\n",
    "        j+=1\n",
    "\n",
    "n4 = 4\n",
    "p4 = []\n",
    "c1 = 0\n",
    "j1 = 0\n",
    "for i in range(n4,newlen):\n",
    "    c1+=1\n",
    "    p4.append(j1+n4)\n",
    "    if(c1==n4):\n",
    "        c1 = 0\n",
    "        j1+=n4+1\n",
    "    else:\n",
    "        j1+=1\n",
    "\n",
    "print(\"Parity Bits: \")\n",
    "nlen = int(math.log2(newlen))\n",
    "p1 = p1[1:1+nlen]\n",
    "p2 = p2[1:1+nlen]\n",
    "p4 = p4[1:1+nlen]\n",
    "print(\"P1 ->\",p1,\"\\nP2 ->\",p2,\"\\nP4 ->\",p4)"
   ]
  },
  {
   "cell_type": "code",
   "execution_count": 16,
   "metadata": {},
   "outputs": [
    {
     "name": "stdout",
     "output_type": "stream",
     "text": [
      "Generating Data + Null Parity Array \n",
      "[1, 1, 1, None, 1, None, None]\n"
     ]
    }
   ],
   "source": [
    "x = list(map(int, list(data)))\n",
    "x.insert(5, None)\n",
    "# 1 0 1 1 NONE\n",
    "x.insert(3, None)\n",
    "# 1 0 1 NONE 1 NONE\n",
    "x.insert(5, None)\n",
    "# 1 0 1 NONE 1 NONE NONE\n",
    "print(\"Generating Data + Null Parity Array \\n\"+str(x))"
   ]
  },
  {
   "cell_type": "code",
   "execution_count": 17,
   "metadata": {},
   "outputs": [
    {
     "name": "stdout",
     "output_type": "stream",
     "text": [
      "P1 -> 1 \n",
      "P2 -> 1 \n",
      "P4 -> 1\n",
      "Data From Sender's Side 1111111\n"
     ]
    }
   ],
   "source": [
    "x = x[::-1]\n",
    "x[n1-1] = [x[i-1] for i in p1].count(1)%2\n",
    "x[n2-1] = [x[i-1] for i in p2].count(1)%2\n",
    "x[n4-1] = [x[i-1] for i in p4].count(1)%2\n",
    "print(\"P1 ->\",x[n1-1],\"\\nP2 ->\",x[n2-1],\"\\nP4 ->\",x[n4-1])\n",
    "x = x[::-1]\n",
    "print(\"Data From Sender's Side \"+str(''.join(map(str,x))))"
   ]
  },
  {
   "attachments": {},
   "cell_type": "markdown",
   "metadata": {},
   "source": [
    "# DATA FROM RECEIVER FOR ERROR CHECKING"
   ]
  },
  {
   "cell_type": "code",
   "execution_count": 18,
   "metadata": {},
   "outputs": [
    {
     "data": {
      "text/plain": [
       "'1011111'"
      ]
     },
     "execution_count": 18,
     "metadata": {},
     "output_type": "execute_result"
    }
   ],
   "source": [
    "sam = \"1011111\"\n",
    "sam"
   ]
  },
  {
   "cell_type": "code",
   "execution_count": 19,
   "metadata": {},
   "outputs": [
    {
     "name": "stdout",
     "output_type": "stream",
     "text": [
      "POSITIONS OF BITS\n"
     ]
    },
    {
     "data": {
      "text/html": [
       "<div>\n",
       "<style scoped>\n",
       "    .dataframe tbody tr th:only-of-type {\n",
       "        vertical-align: middle;\n",
       "    }\n",
       "\n",
       "    .dataframe tbody tr th {\n",
       "        vertical-align: top;\n",
       "    }\n",
       "\n",
       "    .dataframe thead tr th {\n",
       "        text-align: left;\n",
       "    }\n",
       "</style>\n",
       "<table border=\"1\" class=\"dataframe\">\n",
       "  <thead>\n",
       "    <tr>\n",
       "      <th></th>\n",
       "      <th>7</th>\n",
       "      <th>6</th>\n",
       "      <th>5</th>\n",
       "      <th>4</th>\n",
       "      <th>3</th>\n",
       "      <th>2</th>\n",
       "      <th>1</th>\n",
       "    </tr>\n",
       "    <tr>\n",
       "      <th></th>\n",
       "      <th>1</th>\n",
       "      <th>0</th>\n",
       "      <th>1</th>\n",
       "      <th>1</th>\n",
       "      <th>1</th>\n",
       "      <th>1</th>\n",
       "      <th>1</th>\n",
       "    </tr>\n",
       "  </thead>\n",
       "  <tbody>\n",
       "  </tbody>\n",
       "</table>\n",
       "</div>"
      ],
      "text/plain": [
       "Empty DataFrame\n",
       "Columns: [(7, 1), (6, 0), (5, 1), (4, 1), (3, 1), (2, 1), (1, 1)]\n",
       "Index: []"
      ]
     },
     "execution_count": 19,
     "metadata": {},
     "output_type": "execute_result"
    }
   ],
   "source": [
    "print(\"POSITIONS OF BITS\")\n",
    "sampleDf = [[newlen-i for i in range(1,newlen)],list(map(int, list(sam)))]\n",
    "df = pd.DataFrame(columns=sampleDf)\n",
    "df"
   ]
  },
  {
   "cell_type": "code",
   "execution_count": 20,
   "metadata": {},
   "outputs": [
    {
     "name": "stdout",
     "output_type": "stream",
     "text": [
      "Error Found!! \n",
      "Error at:  6\n"
     ]
    }
   ],
   "source": [
    "dfram = list(map(int, list(sam)))\n",
    "check1 = dfram[-1]\n",
    "check2 = dfram[-2]\n",
    "check4 = dfram[-4]\n",
    "\n",
    "dfram = dfram[::-1]\n",
    "dfram1 = int([dfram[i-1] for i in p1].count(1)+check1)%2\n",
    "dfram2 = int([dfram[i-1] for i in p2].count(1)+check2)%2\n",
    "dfram4 = int([dfram[i-1] for i in p4].count(1)+check4)%2\n",
    "\n",
    "darr = [dfram1,dfram2,dfram4]\n",
    "darr = darr[::-1]\n",
    "\n",
    "error = int(''.join(map(str,darr)),2)\n",
    "if(error==0):\n",
    "    print(\"No Error\")\n",
    "else:\n",
    "    print(\"Error Found!! \")\n",
    "    print(\"Error at: \",error)"
   ]
  }
 ],
 "metadata": {
  "kernelspec": {
   "display_name": "Python 3",
   "language": "python",
   "name": "python3"
  },
  "language_info": {
   "codemirror_mode": {
    "name": "ipython",
    "version": 3
   },
   "file_extension": ".py",
   "mimetype": "text/x-python",
   "name": "python",
   "nbconvert_exporter": "python",
   "pygments_lexer": "ipython3",
   "version": "3.9.6"
  },
  "orig_nbformat": 4,
  "vscode": {
   "interpreter": {
    "hash": "31f2aee4e71d21fbe5cf8b01ff0e069b9275f58929596ceb00d14d90e3e16cd6"
   }
  }
 },
 "nbformat": 4,
 "nbformat_minor": 2
}
